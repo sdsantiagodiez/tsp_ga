{
 "cells": [
  {
   "cell_type": "markdown",
   "metadata": {},
   "source": [
    "# Mapplot routes"
   ]
  },
  {
   "cell_type": "code",
   "execution_count": null,
   "metadata": {},
   "outputs": [],
   "source": [
    "import numpy as np\n",
    "from pytsp.util.data_generator import DataGenerator\n",
    "from pytsp.util.plot import Mapplot"
   ]
  },
  {
   "cell_type": "code",
   "execution_count": null,
   "metadata": {},
   "outputs": [],
   "source": [
    "figure_height = 1000\n",
    "figure_width = 1000"
   ]
  },
  {
   "cell_type": "code",
   "execution_count": null,
   "metadata": {},
   "outputs": [],
   "source": [
    "def plot_cities(num_cities, height=figure_height,width=figure_width):\n",
    "    stores = DataGenerator(\n",
    "        num_cities=num_cities\n",
    "    ).selected_cities\n",
    "\n",
    "    stores_to_plot = np.array([k for k in stores[\"coordinates\"] ] + [stores[\"coordinates\"][0]])\n",
    "\n",
    "    return Mapplot.plot_map(\n",
    "        coordinates=stores_to_plot, \n",
    "        height=height,\n",
    "        width=width)"
   ]
  },
  {
   "cell_type": "markdown",
   "metadata": {},
   "source": [
    "## Plotting 10 cities"
   ]
  },
  {
   "cell_type": "code",
   "execution_count": null,
   "metadata": {},
   "outputs": [],
   "source": [
    "selected_starbucks_stores = DataGenerator().selected_cities\n",
    "selected_starbucks_stores"
   ]
  },
  {
   "cell_type": "code",
   "execution_count": null,
   "metadata": {},
   "outputs": [],
   "source": [
    "coordinates_to_plot = np.array([k for k in selected_starbucks_stores[\"coordinates\"] ] + [selected_starbucks_stores[\"coordinates\"][0]])\n",
    "Mapplot.plot_map(coordinates_to_plot, height=figure_height,width=figure_width)"
   ]
  },
  {
   "cell_type": "markdown",
   "metadata": {},
   "source": [
    "## Plotting 50"
   ]
  },
  {
   "cell_type": "code",
   "execution_count": null,
   "metadata": {},
   "outputs": [],
   "source": [
    "plot_cities(50)"
   ]
  },
  {
   "cell_type": "markdown",
   "metadata": {},
   "source": [
    "## Plotting 100"
   ]
  },
  {
   "cell_type": "code",
   "execution_count": null,
   "metadata": {},
   "outputs": [],
   "source": [
    "plot_cities(100)"
   ]
  }
 ],
 "metadata": {
  "interpreter": {
   "hash": "8ed86f6d71fcdf056b60ca71f4aff965ad87d3f6d0aba795820344347239b8b5"
  },
  "kernelspec": {
   "display_name": "Python 3.10.2 ('tsp_ga')",
   "language": "python",
   "name": "python3"
  },
  "language_info": {
   "codemirror_mode": {
    "name": "ipython",
    "version": 3
   },
   "file_extension": ".py",
   "mimetype": "text/x-python",
   "name": "python",
   "nbconvert_exporter": "python",
   "pygments_lexer": "ipython3",
   "version": "3.10.2"
  },
  "orig_nbformat": 4
 },
 "nbformat": 4,
 "nbformat_minor": 2
}
